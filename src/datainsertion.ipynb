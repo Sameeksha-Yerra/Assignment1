{
 "cells": [
  {
   "cell_type": "code",
   "execution_count": 4,
   "metadata": {},
   "outputs": [],
   "source": [
    "from config import CONFIG\n",
    "from storageutils import MySQLManager"
   ]
  },
  {
   "cell_type": "code",
   "execution_count": 11,
   "metadata": {},
   "outputs": [
    {
     "data": {
      "text/plain": [
       "[{'user_name': 'Spoorthi',\n",
       "  'user_id': 6719,\n",
       "  'date_': datetime.date(2020, 10, 4),\n",
       "  'time_slot': 'Morning',\n",
       "  'workout': 'Squats',\n",
       "  'progress': 'Good'},\n",
       " {'user_name': 'Sameeksha',\n",
       "  'user_id': 6730,\n",
       "  'date_': datetime.date(2020, 10, 5),\n",
       "  'time_slot': 'Morning',\n",
       "  'workout': 'PushUps',\n",
       "  'progress': 'Bad'}]"
      ]
     },
     "execution_count": 11,
     "metadata": {},
     "output_type": "execute_result"
    }
   ],
   "source": [
    "query =  'select * from fit1_30;'\n",
    "\n",
    "try:\n",
    "    res = MySQLManager.execute_query(query, None, **CONFIG['database']['gnits'])\n",
    "    \n",
    "except Exception as error:\n",
    "    print(error)\n",
    "\n",
    "res"
   ]
  },
  {
   "cell_type": "code",
   "execution_count": 34,
   "metadata": {},
   "outputs": [
    {
     "data": {
      "text/plain": [
       "[]"
      ]
     },
     "execution_count": 34,
     "metadata": {},
     "output_type": "execute_result"
    }
   ],
   "source": [
    "query = 'insert into fit1_30 values(\"{}\", {}, \"{}\", \"{}\", \"{}\", \"{}\");'.format(\"Snehith\", \"6710\", \"2021-12-13\", \"Afternoon\", \"Cardio\", \"Average\")\n",
    "try:\n",
    "    res = MySQLManager.execute_query(query, None, **CONFIG['database']['gnits'])\n",
    "except Exception as error:\n",
    "    print(error)\n",
    "res"
   ]
  },
  {
   "cell_type": "code",
   "execution_count": 35,
   "metadata": {},
   "outputs": [
    {
     "data": {
      "text/plain": [
       "[{'user_name': 'Snehith',\n",
       "  'user_id': 6710,\n",
       "  'date_': datetime.date(2021, 12, 13),\n",
       "  'time_slot': 'Afternoon',\n",
       "  'workout': 'Cardio',\n",
       "  'progress': 'Average'},\n",
       " {'user_name': 'Snehith',\n",
       "  'user_id': 6713,\n",
       "  'date_': datetime.date(2021, 12, 13),\n",
       "  'time_slot': 'Afternoon',\n",
       "  'workout': 'Cardio',\n",
       "  'progress': 'Average'},\n",
       " {'user_name': 'Spoorthi',\n",
       "  'user_id': 6719,\n",
       "  'date_': datetime.date(2020, 10, 4),\n",
       "  'time_slot': 'Morning',\n",
       "  'workout': 'Squats',\n",
       "  'progress': 'Good'},\n",
       " {'user_name': 'Sameeksha',\n",
       "  'user_id': 6730,\n",
       "  'date_': datetime.date(2020, 10, 5),\n",
       "  'time_slot': 'Morning',\n",
       "  'workout': 'PushUps',\n",
       "  'progress': 'Bad'}]"
      ]
     },
     "execution_count": 35,
     "metadata": {},
     "output_type": "execute_result"
    }
   ],
   "source": [
    "query =  'select * from fit1_30;'\n",
    "\n",
    "try:\n",
    "    res = MySQLManager.execute_query(query, None, **CONFIG['database']['gnits'])\n",
    "    \n",
    "except Exception as error:\n",
    "    print(error)\n",
    "\n",
    "res"
   ]
  },
  {
   "cell_type": "code",
   "execution_count": 39,
   "metadata": {},
   "outputs": [],
   "source": [
    "\n",
    "query = 'update fit1_30 set user_name = \"{}\" where user_id = {};'.format(\"Swapna\", 6710)\n",
    "try:\n",
    "    res = MySQLManager.execute_query(query, None, **CONFIG['database']['gnits'])\n",
    "except Exception as error:\n",
    "    print(error)"
   ]
  },
  {
   "cell_type": "code",
   "execution_count": 40,
   "metadata": {},
   "outputs": [
    {
     "data": {
      "text/plain": [
       "[{'user_name': 'Swapna',\n",
       "  'user_id': 6710,\n",
       "  'date_': datetime.date(2021, 12, 13),\n",
       "  'time_slot': 'Afternoon',\n",
       "  'workout': 'Cardio',\n",
       "  'progress': 'Average'},\n",
       " {'user_name': 'Snehith',\n",
       "  'user_id': 6713,\n",
       "  'date_': datetime.date(2021, 12, 13),\n",
       "  'time_slot': 'Afternoon',\n",
       "  'workout': 'Cardio',\n",
       "  'progress': 'Average'},\n",
       " {'user_name': 'Spoorthi',\n",
       "  'user_id': 6719,\n",
       "  'date_': datetime.date(2020, 10, 4),\n",
       "  'time_slot': 'Morning',\n",
       "  'workout': 'Squats',\n",
       "  'progress': 'Good'},\n",
       " {'user_name': 'Sameeksha',\n",
       "  'user_id': 6730,\n",
       "  'date_': datetime.date(2020, 10, 5),\n",
       "  'time_slot': 'Morning',\n",
       "  'workout': 'PushUps',\n",
       "  'progress': 'Bad'}]"
      ]
     },
     "execution_count": 40,
     "metadata": {},
     "output_type": "execute_result"
    }
   ],
   "source": [
    "query =  'select * from fit1_30;'\n",
    "\n",
    "try:\n",
    "    res = MySQLManager.execute_query(query, None, **CONFIG['database']['gnits'])\n",
    "    \n",
    "except Exception as error:\n",
    "    print(error)\n",
    "\n",
    "res"
   ]
  },
  {
   "cell_type": "code",
   "execution_count": 58,
   "metadata": {},
   "outputs": [],
   "source": [
    "from faker import Faker\n",
    "import numpy as np\n",
    "import random\n",
    "\n",
    "fake = Faker()\n",
    "fixed_digits = 6\n",
    "workout_list=[\"Squats\",\"PushUps\",\"Cardio\",\"Burpees\",\"Dumbells\"]\n",
    "time_list=[\"Morning\",\"Afternoon\",\"Evening\"]\n",
    "progress_list=[\"Good\",\"Average\",\"Bad\"]\n",
    "def faker_data_generator(num=1, seed=None):\n",
    "    fake.seed_instance(seed)\n",
    "    output = []\n",
    "    for x in range(num):\n",
    "      generated_name = fake.name()\n",
    "      \n",
    "      \n",
    "      date__=fake.date()\n",
    "      output.append(\n",
    "        {\n",
    "            \"user_name\": generated_name,\n",
    "            \"user_id\":x+6610,\n",
    "            \"date_\":date__,\n",
    "            \"time_slot\":random.choice(time_list),           \n",
    "            \"workout\":random.choice(workout_list),\n",
    "            \"progress\":random.choice(progress_list)\n",
    "        }\n",
    "      )\n",
    "    return output"
   ]
  },
  {
   "cell_type": "code",
   "execution_count": 59,
   "metadata": {},
   "outputs": [
    {
     "data": {
      "text/plain": [
       "50"
      ]
     },
     "execution_count": 59,
     "metadata": {},
     "output_type": "execute_result"
    }
   ],
   "source": [
    "fitness_data = faker_data_generator(50, 2)\n",
    "table = 'fit1_30'\n",
    "cols = ['user_name', 'user_id', 'date_', 'time_slot', 'workout', 'progress']\n",
    "data = []\n",
    "for item in fitness_data:\n",
    "    x = {}\n",
    "    x['user_name'] = item['user_name']\n",
    "    x['user_id'] = item['user_id']\n",
    "    x['date_'] = item['date_']\n",
    "    x['time_slot'] = item['time_slot']\n",
    "    x['workout'] = item['workout']\n",
    "    x['progress'] = item['progress']\n",
    "    data.append(x)\n",
    "    if len(data) > 200:\n",
    "        MySQLManager.bulk_insert(table, cols, data, **CONFIG[\"database\"][\"gnits\"])\n",
    "        data = []\n",
    "MySQLManager.bulk_insert(table, cols, data, **CONFIG[\"database\"][\"gnits\"])"
   ]
  },
  {
   "cell_type": "code",
   "execution_count": null,
   "metadata": {},
   "outputs": [],
   "source": []
  }
 ],
 "metadata": {
  "kernelspec": {
   "display_name": "venv",
   "language": "python",
   "name": "python3"
  },
  "language_info": {
   "codemirror_mode": {
    "name": "ipython",
    "version": 3
   },
   "file_extension": ".py",
   "mimetype": "text/x-python",
   "name": "python",
   "nbconvert_exporter": "python",
   "pygments_lexer": "ipython3",
   "version": "3.11.0"
  },
  "orig_nbformat": 4
 },
 "nbformat": 4,
 "nbformat_minor": 2
}
